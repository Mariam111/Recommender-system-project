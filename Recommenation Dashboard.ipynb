{
 "cells": [
  {
   "cell_type": "code",
   "execution_count": 1,
   "id": "2c806f05",
   "metadata": {},
   "outputs": [
    {
     "name": "stdout",
     "output_type": "stream",
     "text": [
      "<class 'pandas.core.frame.DataFrame'>\n",
      "RangeIndex: 9742 entries, 0 to 9741\n",
      "Data columns (total 3 columns):\n",
      " #   Column   Non-Null Count  Dtype \n",
      "---  ------   --------------  ----- \n",
      " 0   movieId  9742 non-null   int64 \n",
      " 1   title    9742 non-null   object\n",
      " 2   genres   9742 non-null   object\n",
      "dtypes: int64(1), object(2)\n",
      "memory usage: 228.5+ KB\n",
      "<class 'pandas.core.frame.DataFrame'>\n",
      "RangeIndex: 100836 entries, 0 to 100835\n",
      "Data columns (total 4 columns):\n",
      " #   Column     Non-Null Count   Dtype  \n",
      "---  ------     --------------   -----  \n",
      " 0   userId     100836 non-null  int64  \n",
      " 1   movieId    100836 non-null  int64  \n",
      " 2   rating     100836 non-null  float64\n",
      " 3   timestamp  100836 non-null  int64  \n",
      "dtypes: float64(1), int64(3)\n",
      "memory usage: 3.1 MB\n"
     ]
    }
   ],
   "source": [
    "import numpy as np\n",
    "import pandas as pd \n",
    "import plotly.express as px\n",
    "from get_similar_movies import similar_item_by_name"
   ]
  },
  {
   "cell_type": "code",
   "execution_count": 2,
   "id": "4ed74e7f",
   "metadata": {
    "scrolled": true
   },
   "outputs": [],
   "source": [
    "# !pip install dash-ag-grid"
   ]
  },
  {
   "cell_type": "code",
   "execution_count": 3,
   "id": "66eb89e8",
   "metadata": {},
   "outputs": [],
   "source": [
    "movies=pd.read_csv(\"movies.csv\")\n",
    "ratings=pd.read_csv(\"ratings.csv\")\n",
    "tags=pd.read_csv(\"tags.csv\")\n",
    "links=pd.read_csv(\"links.csv\")\n",
    "\n",
    "#movie ids are the same in all datasets"
   ]
  },
  {
   "cell_type": "markdown",
   "id": "3f8882d5",
   "metadata": {},
   "source": [
    "## preprocess"
   ]
  },
  {
   "cell_type": "code",
   "execution_count": 12,
   "id": "97685641",
   "metadata": {},
   "outputs": [
    {
     "data": {
      "text/html": [
       "<div>\n",
       "<style scoped>\n",
       "    .dataframe tbody tr th:only-of-type {\n",
       "        vertical-align: middle;\n",
       "    }\n",
       "\n",
       "    .dataframe tbody tr th {\n",
       "        vertical-align: top;\n",
       "    }\n",
       "\n",
       "    .dataframe thead th {\n",
       "        text-align: right;\n",
       "    }\n",
       "</style>\n",
       "<table border=\"1\" class=\"dataframe\">\n",
       "  <thead>\n",
       "    <tr style=\"text-align: right;\">\n",
       "      <th></th>\n",
       "      <th>movieId</th>\n",
       "      <th>watch count</th>\n",
       "    </tr>\n",
       "  </thead>\n",
       "  <tbody>\n",
       "    <tr>\n",
       "      <th>0</th>\n",
       "      <td>1</td>\n",
       "      <td>215</td>\n",
       "    </tr>\n",
       "    <tr>\n",
       "      <th>1</th>\n",
       "      <td>2</td>\n",
       "      <td>110</td>\n",
       "    </tr>\n",
       "    <tr>\n",
       "      <th>2</th>\n",
       "      <td>3</td>\n",
       "      <td>52</td>\n",
       "    </tr>\n",
       "    <tr>\n",
       "      <th>3</th>\n",
       "      <td>4</td>\n",
       "      <td>7</td>\n",
       "    </tr>\n",
       "    <tr>\n",
       "      <th>4</th>\n",
       "      <td>5</td>\n",
       "      <td>49</td>\n",
       "    </tr>\n",
       "  </tbody>\n",
       "</table>\n",
       "</div>"
      ],
      "text/plain": [
       "   movieId  watch count\n",
       "0        1          215\n",
       "1        2          110\n",
       "2        3           52\n",
       "3        4            7\n",
       "4        5           49"
      ]
     },
     "execution_count": 12,
     "metadata": {},
     "output_type": "execute_result"
    }
   ],
   "source": [
    "watch_count = ratings.groupby(['movieId']).agg({'userId': 'count'}).reset_index()\n",
    "watch_count.columns=[\"movieId\",\"watch count\"]\n",
    "watch_count.head()"
   ]
  },
  {
   "cell_type": "code",
   "execution_count": 13,
   "id": "121d7fc5",
   "metadata": {},
   "outputs": [],
   "source": [
    "avg_rating=ratings.groupby(\"movieId\").agg({\"rating\":\"mean\"}).reset_index()\n",
    "avg_rating.columns=[\"movieId\",\"avg ratings\"]"
   ]
  },
  {
   "cell_type": "code",
   "execution_count": 14,
   "id": "3fc542e8",
   "metadata": {},
   "outputs": [],
   "source": [
    "available_ratings=ratings[\"movieId\"].unique().tolist()"
   ]
  },
  {
   "cell_type": "code",
   "execution_count": 15,
   "id": "23c75ef4",
   "metadata": {},
   "outputs": [],
   "source": [
    "movies=movies[movies[\"movieId\"].isin(available_ratings)]\n"
   ]
  },
  {
   "cell_type": "code",
   "execution_count": 16,
   "id": "d7d08597",
   "metadata": {},
   "outputs": [
    {
     "data": {
      "text/plain": [
       "(9724, 6)"
      ]
     },
     "execution_count": 16,
     "metadata": {},
     "output_type": "execute_result"
    }
   ],
   "source": [
    "movies_merged=pd.merge(movies,links[[\"tmdbId\",\"imdbId\",\"movieId\"]], on=[\"movieId\"]).merge(watch_count[[\"movieId\",\"watch count\"]],on=[\"movieId\"])\n",
    "movies_merged.shape"
   ]
  },
  {
   "cell_type": "code",
   "execution_count": 17,
   "id": "ae2982f8",
   "metadata": {},
   "outputs": [],
   "source": [
    "movies_metadata=pd.merge(movies_merged,avg_rating[[\"movieId\",\"avg ratings\"]], on=[\"movieId\"])"
   ]
  },
  {
   "cell_type": "code",
   "execution_count": 18,
   "id": "3db00c95",
   "metadata": {},
   "outputs": [
    {
     "data": {
      "text/html": [
       "<div>\n",
       "<style scoped>\n",
       "    .dataframe tbody tr th:only-of-type {\n",
       "        vertical-align: middle;\n",
       "    }\n",
       "\n",
       "    .dataframe tbody tr th {\n",
       "        vertical-align: top;\n",
       "    }\n",
       "\n",
       "    .dataframe thead th {\n",
       "        text-align: right;\n",
       "    }\n",
       "</style>\n",
       "<table border=\"1\" class=\"dataframe\">\n",
       "  <thead>\n",
       "    <tr style=\"text-align: right;\">\n",
       "      <th></th>\n",
       "      <th>movieId</th>\n",
       "      <th>title</th>\n",
       "      <th>genres</th>\n",
       "      <th>tmdbId</th>\n",
       "      <th>imdbId</th>\n",
       "      <th>watch count</th>\n",
       "      <th>avg ratings</th>\n",
       "    </tr>\n",
       "  </thead>\n",
       "  <tbody>\n",
       "    <tr>\n",
       "      <th>0</th>\n",
       "      <td>1</td>\n",
       "      <td>Toy Story (1995)</td>\n",
       "      <td>Adventure|Animation|Children|Comedy|Fantasy</td>\n",
       "      <td>862.0</td>\n",
       "      <td>114709</td>\n",
       "      <td>215</td>\n",
       "      <td>3.920930</td>\n",
       "    </tr>\n",
       "    <tr>\n",
       "      <th>1</th>\n",
       "      <td>2</td>\n",
       "      <td>Jumanji (1995)</td>\n",
       "      <td>Adventure|Children|Fantasy</td>\n",
       "      <td>8844.0</td>\n",
       "      <td>113497</td>\n",
       "      <td>110</td>\n",
       "      <td>3.431818</td>\n",
       "    </tr>\n",
       "    <tr>\n",
       "      <th>2</th>\n",
       "      <td>3</td>\n",
       "      <td>Grumpier Old Men (1995)</td>\n",
       "      <td>Comedy|Romance</td>\n",
       "      <td>15602.0</td>\n",
       "      <td>113228</td>\n",
       "      <td>52</td>\n",
       "      <td>3.259615</td>\n",
       "    </tr>\n",
       "    <tr>\n",
       "      <th>3</th>\n",
       "      <td>4</td>\n",
       "      <td>Waiting to Exhale (1995)</td>\n",
       "      <td>Comedy|Drama|Romance</td>\n",
       "      <td>31357.0</td>\n",
       "      <td>114885</td>\n",
       "      <td>7</td>\n",
       "      <td>2.357143</td>\n",
       "    </tr>\n",
       "    <tr>\n",
       "      <th>4</th>\n",
       "      <td>5</td>\n",
       "      <td>Father of the Bride Part II (1995)</td>\n",
       "      <td>Comedy</td>\n",
       "      <td>11862.0</td>\n",
       "      <td>113041</td>\n",
       "      <td>49</td>\n",
       "      <td>3.071429</td>\n",
       "    </tr>\n",
       "  </tbody>\n",
       "</table>\n",
       "</div>"
      ],
      "text/plain": [
       "   movieId                               title  \\\n",
       "0        1                    Toy Story (1995)   \n",
       "1        2                      Jumanji (1995)   \n",
       "2        3             Grumpier Old Men (1995)   \n",
       "3        4            Waiting to Exhale (1995)   \n",
       "4        5  Father of the Bride Part II (1995)   \n",
       "\n",
       "                                        genres   tmdbId  imdbId  watch count  \\\n",
       "0  Adventure|Animation|Children|Comedy|Fantasy    862.0  114709          215   \n",
       "1                   Adventure|Children|Fantasy   8844.0  113497          110   \n",
       "2                               Comedy|Romance  15602.0  113228           52   \n",
       "3                         Comedy|Drama|Romance  31357.0  114885            7   \n",
       "4                                       Comedy  11862.0  113041           49   \n",
       "\n",
       "   avg ratings  \n",
       "0     3.920930  \n",
       "1     3.431818  \n",
       "2     3.259615  \n",
       "3     2.357143  \n",
       "4     3.071429  "
      ]
     },
     "execution_count": 18,
     "metadata": {},
     "output_type": "execute_result"
    }
   ],
   "source": [
    "movies_metadata.head()"
   ]
  },
  {
   "cell_type": "markdown",
   "id": "7c015e8e",
   "metadata": {},
   "source": [
    "----------------------------------------------------------------------------------------------------"
   ]
  },
  {
   "cell_type": "markdown",
   "id": "e8d68882",
   "metadata": {},
   "source": [
    "# Dashboard "
   ]
  },
  {
   "cell_type": "code",
   "execution_count": 19,
   "id": "b480f0fe",
   "metadata": {},
   "outputs": [],
   "source": [
    "# !pip install dash\n",
    "# !pip install jupyter_dash"
   ]
  },
  {
   "cell_type": "code",
   "execution_count": 20,
   "id": "c4366832",
   "metadata": {},
   "outputs": [],
   "source": [
    "import dash\n",
    "from dash import Dash, dcc, html,dash_table\n",
    "from dash.dependencies import Input, Output, State\n",
    "import dash_bootstrap_components as dbc\n",
    "import dash_ag_grid as dag\n",
    "import time"
   ]
  },
  {
   "cell_type": "code",
   "execution_count": 21,
   "id": "cc5814a6",
   "metadata": {},
   "outputs": [],
   "source": [
    "app = dash.Dash(__name__,external_stylesheets=[\"assets\\zephyr.min.css\"])\n"
   ]
  },
  {
   "cell_type": "code",
   "execution_count": 22,
   "id": "3f8b2114",
   "metadata": {},
   "outputs": [],
   "source": [
    "#the tabs style when selected and unselected\n",
    "tab_style = {\n",
    "    \"color\": \"black\",\n",
    "    'borderBottom': '1px solid #FCFCFC',\n",
    "    'border-radius':'5px',\n",
    "    \"box-shadow\": \"1px 1px 0px F0A202\",\n",
    "    \"border-left\": \"1px solid lightgrey !important\",\n",
    "   \" border-right\": \"1px solid lightgrey !important\",\n",
    "    'border-radius':'5px',\n",
    "    \"border-top\": \"3px solid #e36209 !important\",\n",
    "     \"background\": '#F0A202',\n",
    "\n",
    "    \n",
    "\n",
    "}\n",
    "\n",
    "tab_selected_style = {\n",
    "    'fontWeight': 'bold',\n",
    "   \" box-shadow\": \"1px 1px 0px white\",\n",
    "    \"border-left\": \"1px solid lightgrey !important\",\n",
    "   \" border-right\": \"1px solid lightgrey !important\",\n",
    "    'border-radius':'5px',\n",
    "    \"border-top\": \"3px solid #e36209 !important\",\n",
    "    \"font-color\":\"white\"\n",
    "    \n",
    "    \n",
    "}"
   ]
  },
  {
   "cell_type": "code",
   "execution_count": null,
   "id": "b3220420",
   "metadata": {},
   "outputs": [],
   "source": []
  },
  {
   "cell_type": "code",
   "execution_count": 23,
   "id": "f64e15de",
   "metadata": {},
   "outputs": [],
   "source": [
    "\n",
    "tabs=dcc.Tabs(id='tabs-example-1', value='users', children=[\n",
    "                            dcc.Tab(label='Users', value='users',style=tab_style, selected_style=tab_selected_style),\n",
    "                            dcc.Tab(label='Movies', value='movies',style=tab_style, selected_style=tab_selected_style)\n",
    "],content_style={\"margin-top\":\"20px\",\"margin-bottom\":\"-65px\"},colors={\"border-top\": '#A4243B',})\n",
    "\n",
    "#,colors={    \"border-top\": '#A4243B',    \"primary\": '#2E4057','#21897E'    \"background\": '#f9f9f9',} colors=border: '#d6d6d6',    primary: '#1975FA',    background: '#f9f9f9'"
   ]
  },
  {
   "cell_type": "code",
   "execution_count": 24,
   "id": "1c5f4b11",
   "metadata": {},
   "outputs": [],
   "source": [
    "dashboard_header=dbc.CardHeader(\n",
    "    [html.H1(\"🎞Tailored Films🎞\",style={\"textAlign\":\"center\",\"margin-top\":\"20px\",\"margin-bottom\":\"20px\",\"color\":\"#2E4057\"}),tabs],\n",
    "style={ \"border-bottom-color\": \"#FCFCFC\",\"background-color\":'#FECF72'}) \n",
    " "
   ]
  },
  {
   "cell_type": "code",
   "execution_count": 25,
   "id": "233cf121",
   "metadata": {},
   "outputs": [],
   "source": [
    "content_card=dbc.Card([dashboard_header,dbc.CardBody([],id='tabs-example-content-1')], style={\"margin-top\":\"20px\"})#give it id to return the button based on the mode  "
   ]
  },
  {
   "cell_type": "code",
   "execution_count": 26,
   "id": "ce77839c",
   "metadata": {},
   "outputs": [],
   "source": [
    "#modals and paginantion\n",
    "recommendation_modal = dbc.Modal(\n",
    "    \n",
    "    id=\"modal-1\", fullscreen=True,  size=\"xl\",is_open=False\n",
    ")\n",
    "\n",
    "\n",
    "similarity_modal = dbc.Modal(\n",
    "    id=\"modal-2\", fullscreen=True,size=\"xl\",is_open=False\n",
    ")"
   ]
  },
  {
   "cell_type": "markdown",
   "id": "10a3fcec",
   "metadata": {},
   "source": [
    "### Recommendation"
   ]
  },
  {
   "cell_type": "code",
   "execution_count": 27,
   "id": "2e6108a1",
   "metadata": {},
   "outputs": [],
   "source": [
    "# Create dropdown menu options\n",
    "\n",
    "dropdown = dcc.Dropdown(id='user-dropdown', options=ratings[\"userId\"].unique(), value=ratings['userId'].unique()[0],style={\"margin-top\":\"20px\"})\n",
    "\n",
    "button=dbc.Button(\"Get Recommendation for user\", color=\"success\",size=\"lg\",id=\"recommendation_button\",style={\"margin-top\":\"20px\",\"background-color\":\"05A8AA\"})\n",
    "\n",
    "\n",
    "# n_items=dbc.Input(id='n_page_modal-1', type='text', placeholder='Enter number of items per page')\n",
    "# define the content for each modal as a dictionary\n",
    ",\n",
    "\n",
    "\n",
    "\n",
    "\n",
    "#add here input\n",
    "user_content=dbc.Row([\n",
    "    dropdown,dcc.Graph(id='graph-content',style={\"margin-left\":\"40px\",\"margin-top\":\"20px\"})]),\\\n",
    "    dbc.Row([dbc.Col([button,recommendation_modal],width=3) ],justify=\"center\")\n",
    "#add filteration for genres and ratings ??"
   ]
  },
  {
   "cell_type": "code",
   "execution_count": 28,
   "id": "5c1b14f1",
   "metadata": {},
   "outputs": [],
   "source": [
    "@app.callback(\n",
    "    Output('graph-content', 'figure'),\n",
    "    Input('user-dropdown', 'value')\n",
    ")\n",
    "def update_graph(value):\n",
    "    \n",
    "    tagged_users=tags.userId.unique()\n",
    "    grouped_tags=tags.groupby([\"userId\",\"movieId\"]).agg({'tag': lambda x: ', '.join(x)}).reset_index()\n",
    "\n",
    "    filtered_graph=ratings[ratings[\"userId\"]==value]\n",
    "\n",
    "    merged_df = pd.merge(filtered_graph, movies[['movieId', 'title',\"genres\"]], on='movieId').sort_values('rating', ascending=False)\n",
    "    if value in tagged_users.tolist():\n",
    "        merged_df2=pd.merge(merged_df,grouped_tags[[\"movieId\",\"tag\",\"userId\"]],on=\"userId\")\n",
    "        return px.funnel(merged_df2, x='rating',y='title',color=\"rating\",hover_data=[\"tags\"],title=f\"user's {value} interaction history\",template=\"zephyr\").update_layout(width=1000, height=600)\n",
    "   \n",
    "    else :\n",
    "        return px.funnel(merged_df, x='rating',y='title',color=\"rating\",hover_data=[\"genres\"],title=f\"user's {value} interaction history\").update_layout(width=1000, height=600)\n"
   ]
  },
  {
   "cell_type": "code",
   "execution_count": 29,
   "id": "ca775cf6",
   "metadata": {},
   "outputs": [
    {
     "data": {
      "text/plain": [
       "0                                Toy Story (1995)\n",
       "1                                  Jumanji (1995)\n",
       "2                         Grumpier Old Men (1995)\n",
       "3                        Waiting to Exhale (1995)\n",
       "4              Father of the Bride Part II (1995)\n",
       "                          ...                    \n",
       "9737    Black Butler: Book of the Atlantic (2017)\n",
       "9738                 No Game No Life: Zero (2017)\n",
       "9739                                 Flint (2017)\n",
       "9740          Bungo Stray Dogs: Dead Apple (2018)\n",
       "9741          Andrew Dice Clay: Dice Rules (1991)\n",
       "Name: title, Length: 9724, dtype: object"
      ]
     },
     "execution_count": 29,
     "metadata": {},
     "output_type": "execute_result"
    }
   ],
   "source": [
    "movies[\"title\"]"
   ]
  },
  {
   "cell_type": "code",
   "execution_count": 30,
   "id": "4cc55a7b",
   "metadata": {},
   "outputs": [],
   "source": [
    "movie_dropdown = dcc.Dropdown(id='movie-dropdown', options=movies[\"title\"].unique(), value=movies[\"title\"][0],style={\"margin-top\":\"20px\",\"margin-bottom\":\"20px\"})\n",
    "button=dbc.Button(\"Get Similar movies\", color=\"success\", className=\"me-1\",size=\"lg\",id=\"similarity_button\",style={\"margin-top\":\"20px\",\"margin-bottom\":\"20px\"}) #color=\"primary\" return to dbc size=\"md\"\n",
    "\n",
    "\n",
    "#add here input too\n",
    "movies_content=dbc.Row([movie_dropdown, html.Div(id='table-container')]),dbc.Row([dbc.Col([button,similarity_modal],width=3) ],justify=\"center\")"
   ]
  },
  {
   "cell_type": "code",
   "execution_count": 31,
   "id": "745b1fe6",
   "metadata": {},
   "outputs": [],
   "source": [
    "@app.callback(\n",
    "    Output('table-container', 'children'),\n",
    "    Input('movie-dropdown', 'value')\n",
    ")\n",
    "def update_table(value):\n",
    "    movies_filtered=movies_metadata[movies_metadata[\"title\"]==value ]\n",
    "    \n",
    "    \n",
    "    # define the CSS styles to customize the table\n",
    "    table_style = {\n",
    "        'backgroundColor': 'white',\n",
    "        'border': '2px teal'\n",
    "    }\n",
    "    \n",
    "    table = dbc.Table.from_dataframe(\n",
    "    movies_filtered,\n",
    "    bordered=True,\n",
    "    hover=True,\n",
    "#     style=table_style\n",
    "    \n",
    "  )\n",
    "    \n",
    "    \n",
    "    return table\n",
    "    "
   ]
  },
  {
   "cell_type": "code",
   "execution_count": 32,
   "id": "2acfaf3e",
   "metadata": {},
   "outputs": [],
   "source": [
    "@app.callback(\n",
    "    Output('tabs-example-content-1', 'children'),\n",
    "    Input('tabs-example-1', 'value')\n",
    ")\n",
    "def render_content(tab):\n",
    "    if tab == 'users':\n",
    "        return user_content\n",
    "    elif tab == 'movies':\n",
    "        return movies_content\n"
   ]
  },
  {
   "cell_type": "code",
   "execution_count": 33,
   "id": "44478cbb",
   "metadata": {},
   "outputs": [],
   "source": [
    "# open modal - user's modal\n",
    "@app.callback(\n",
    "    Output(\"modal-1\", \"is_open\"),\n",
    "    Input(\"recommendation_button\", \"n_clicks\"),\n",
    "    State(\"modal-1\", \"is_open\"),\n",
    ")\n",
    "def toggle_modal_1(n_clicks, is_open):\n",
    "    if n_clicks:\n",
    "        return True\n",
    "    else:\n",
    "        return False\n",
    "\n",
    "   \n",
    "\n",
    "    ##movies callback\n",
    "@app.callback(\n",
    "    Output(\"modal-2\", \"is_open\"),\n",
    "    Input(\"similarity_button\", \"n_clicks\"),\n",
    "    State(\"modal-2\", \"is_open\"),\n",
    ")\n",
    "def toggle_modal_2(n_clicks, is_open):\n",
    "    if n_clicks:\n",
    "        return True\n",
    "    else:\n",
    "        return False\n",
    "    \n",
    "    \n",
    "#----------------------------------------------------------------------------------------\n",
    "\n",
    "# update recommendation modal's content for user\n",
    "@app.callback(\n",
    "  Output(\"modal-1\", \"children\"),\n",
    "  Input('user-dropdown', 'value')\n",
    ")\n",
    "def update_modal_content(value):\n",
    "    ##add model function \n",
    "    ##add daq table to be viewed with dcc.loading\n",
    "  \n",
    "    columnDefs = [\n",
    "    {\"field\": \"movieId\"},\n",
    "    {\"field\": \"title\"},\n",
    "    {\"field\": \"genres\"},\n",
    "    {\"field\": \"tmdbId\"},\n",
    "    {\"field\": \"imdbId\"},\n",
    "    {\"field\": \"watch_count\"},\n",
    "    {\"field\": \"avg_ratings\"},\n",
    "]\n",
    "    \n",
    "    input_field=dcc.Input(id=\"input-page-size\", type=\"number\", min=1, max=len(movies_metadata), value=5)\n",
    "    \n",
    "    table=dag.AgGrid(\n",
    "            id=\"grid-page-size\",\n",
    "            columnDefs=columnDefs,\n",
    "        \n",
    "            #where to change\n",
    "            rowData=movies_metadata.to_dict(\"records\"),\n",
    "            columnSize=\"sizeToFit\",\n",
    "            defaultColDef={\"resizable\": True,\"suppressMovable\": True},\n",
    "            dashGridOptions={\"pagination\": True},\n",
    "            suppressDragLeaveHidesColumns=True,\n",
    "            className=\"ag-theme-material\"\n",
    "        )\n",
    "    \n",
    "    #can be removed\n",
    "    loading_table = dcc.Loading(\n",
    "    type=\"dot\",\n",
    "    id=\"loading-table\",\n",
    "    children=[table]\n",
    ")\n",
    "\n",
    "    \n",
    "    modal_1_content =\\\n",
    "    dbc.ModalHeader(dbc.ModalTitle(f\"Movie Recommendation for user's {value}\"),style={'textAlign':'center'}),html.Hr(),dbc.ModalBody([\n",
    "        dbc.Row([ \n",
    "            dbc.Col([html.P(\"Please enter number of recommendations\")],width=4),dbc.Col([input_field],width=3,style={\"margin-left\":\"-35px\"})]),\n",
    "        loading_table,\n",
    "        \n",
    "       \n",
    "    ],id=\"recommendation_modal\")\n",
    "\n",
    "    return modal_1_content\n",
    "\n"
   ]
  },
  {
   "cell_type": "code",
   "execution_count": 34,
   "id": "767da4ca",
   "metadata": {},
   "outputs": [],
   "source": [
    "#update number of columns\n",
    "@app.callback(\n",
    "    Output(\"grid-page-size\", \"dashGridOptions\"),\n",
    "    Input(\"input-page-size\", \"value\"),\n",
    "    State(\"grid-page-size\", \"dashGridOptions\"),\n",
    ")\n",
    "def update_page_size(page_size, grid_options):\n",
    "    page_size = 1 if page_size is None else page_size\n",
    "    grid_options[\"paginationPageSize\"] = page_size\n",
    "    return grid_options"
   ]
  },
  {
   "cell_type": "code",
   "execution_count": 35,
   "id": "addb4741",
   "metadata": {},
   "outputs": [],
   "source": [
    "# @app.callback(Output(\"loading-table\", \"children\"), Input(\"grid-page-size\", \"value\"))\n",
    "# def input_triggers_spinner(value):\n",
    "#     time.sleep(3)\n",
    "#     table=dag.AgGrid(\n",
    "#             id=\"grid-page-size\",\n",
    "#             columnDefs=columnDefs,\n",
    "#             rowData=movies_metadata.to_dict(\"records\"),\n",
    "#             columnSize=\"sizeToFit\",\n",
    "#             defaultColDef={\"resizable\": True,\"suppressMovableColumns\": True},\n",
    "#             dashGridOptions={\"pagination\": True,\"paginationPageSize\":value},\n",
    "#             suppressDragLeaveHidesColumns=True\n",
    "#     )\n",
    "#     return table\n",
    "# #     return value\n",
    "\n",
    "#pause currently"
   ]
  },
  {
   "cell_type": "code",
   "execution_count": 36,
   "id": "b194d10c",
   "metadata": {},
   "outputs": [],
   "source": [
    "#update similarity's modal's content\n",
    "@app.callback(\n",
    "  Output(\"modal-2\", \"children\"),\n",
    "  Input('movie-dropdown', 'value')\n",
    ")\n",
    "def update_modal_content2(value):\n",
    "    ##add model function \n",
    "    ##add daq table to be viewed with dcc.loading\n",
    "  \n",
    "    columnDefs = [\n",
    "    {\"field\": \"movieId\"},\n",
    "    {\"field\": \"title\"},\n",
    "    {\"field\": \"genres\"},\n",
    "    {\"field\": \"tmdbId\"},\n",
    "    {\"field\": \"imdbId\"},\n",
    "    {\"field\": \"similarity score\"},\n",
    "    {\"field\": \"avg ratings\"},\n",
    "    {\"field\": \"watch count\"},\n",
    "]\n",
    "    \n",
    "    input_field=dcc.Input(id=\"input-movie-size\", type=\"number\", min=1, max=len(movies_metadata), value=5)\n",
    "    similar_films=similar_item_by_name(value)\n",
    "    #add hovering effect on titles\n",
    "    table=dag.AgGrid(\n",
    "            id=\"grid-movie-size\",\n",
    "            columnDefs=columnDefs,\n",
    "            #where to change\n",
    "            rowData=similar_films.to_dict(\"records\"),\n",
    "            columnSize=\"sizeToFit\",\n",
    "            defaultColDef={\"resizable\": True,\"suppressMovable\": True},\n",
    "            dashGridOptions={\"pagination\": True},\n",
    "            suppressDragLeaveHidesColumns=True,\n",
    "            className=\"ag-theme-material\"\n",
    "            \n",
    "        )\n",
    "    \n",
    "    loading_table = dcc.Loading(\n",
    "    type=\"dot\",\n",
    "    id=\"loading-items\",\n",
    "        \n",
    "    children=[table]\n",
    ")\n",
    "\n",
    "    \n",
    "    modal_2_content =\\\n",
    "    dbc.ModalHeader(dbc.ModalTitle(f\"Similar movies for for: {value}\"),style={'textAlign':'center'}),html.Hr(),dbc.ModalBody([\n",
    "        dbc.Row([ \n",
    "        dbc.Col([html.P(\"Please enter number of recommendations\")],width=4),dbc.Col([input_field],width=3,style={\"margin-left\":\"-35px\"})\n",
    "        ]),\n",
    "        loading_table,\n",
    "       \n",
    "    ],id=\"similarity_modal\")\n",
    "\n",
    "    return modal_2_content\n",
    "\n"
   ]
  },
  {
   "cell_type": "code",
   "execution_count": 37,
   "id": "21076cc1",
   "metadata": {},
   "outputs": [],
   "source": [
    "# @app.callback(Output(\"loading-items\", \"children\"), Input('movie-dropdown', 'value'))\n",
    "# def input_triggers_spinner(value):\n",
    "#     columnDefs = [\n",
    "#     {\"field\": \"movieId\"},\n",
    "#     {\"field\": \"title\"},\n",
    "#     {\"field\": \"genres\"},\n",
    "#     {\"field\": \"tmdbId\"},\n",
    "#     {\"field\": \"imdbId\"},\n",
    "#     {\"field\": \"similarity score\"},\n",
    "#     {\"field\": \"avg ratings\"},\n",
    "#     {\"field\": \"watch count\"},\n",
    "# ]\n",
    "  \n",
    "#     similar_films=similar_item_by_name(value)\n",
    "#     #add hovering effect on titles\n",
    "#     table=dag.AgGrid(\n",
    "#             id=\"grid-movie-size\",\n",
    "#             columnDefs=columnDefs,\n",
    "#             #where to change\n",
    "#             rowData=similar_films.to_dict(\"records\"),\n",
    "#             columnSize=\"sizeToFit\",\n",
    "#             defaultColDef={\"resizable\": True,\"suppressMovableColumns\": True},\n",
    "#             dashGridOptions={\"pagination\": True},\n",
    "#             suppressDragLeaveHidesColumns=True\n",
    "            \n",
    "#         )\n",
    "#     return table\n",
    "# #     return value\n",
    "\n",
    "# # pause currently"
   ]
  },
  {
   "cell_type": "code",
   "execution_count": 38,
   "id": "b7ba40d1",
   "metadata": {},
   "outputs": [],
   "source": [
    "#update number of columns\n",
    "@app.callback(\n",
    "    Output(\"grid-movie-size\", \"dashGridOptions\"),\n",
    "    Input(\"input-movie-size\", \"value\"),\n",
    "    State(\"grid-movie-size\", \"dashGridOptions\"),\n",
    ")\n",
    "def update_page_size2(page_size, grid_options):\n",
    "    page_size = 1 if page_size is None else page_size\n",
    "    grid_options[\"paginationPageSize\"] = page_size\n",
    "    return grid_options"
   ]
  },
  {
   "cell_type": "code",
   "execution_count": 39,
   "id": "3640d521",
   "metadata": {},
   "outputs": [],
   "source": [
    "footer = html.Footer(\n",
    "       \n",
    "            html.P(\"ITI © Salma Kishk 🤞 Mariam Gamal 🤞 Yasmeen Nour\",style={'textAlign':'center',\"margin-top\":\"50px\",\"font-color\":\"#808080\"})\n",
    ")\n",
    "    \n"
   ]
  },
  {
   "cell_type": "code",
   "execution_count": 40,
   "id": "94c0092f",
   "metadata": {},
   "outputs": [],
   "source": [
    "app.layout = dbc.Container([\n",
    "                            content_card,\n",
    "                            footer\n",
    "                          ])"
   ]
  },
  {
   "cell_type": "code",
   "execution_count": null,
   "id": "c336b197",
   "metadata": {},
   "outputs": [],
   "source": []
  },
  {
   "cell_type": "code",
   "execution_count": null,
   "id": "4399e2fb",
   "metadata": {
    "scrolled": true
   },
   "outputs": [
    {
     "name": "stdout",
     "output_type": "stream",
     "text": [
      "Dash is running on http://127.0.0.1:8050/\n",
      "\n",
      " * Serving Flask app '__main__'\n",
      " * Debug mode: off\n"
     ]
    },
    {
     "name": "stderr",
     "output_type": "stream",
     "text": [
      "WARNING: This is a development server. Do not use it in a production deployment. Use a production WSGI server instead.\n",
      " * Running on http://127.0.0.1:8050\n",
      "Press CTRL+C to quit\n",
      "127.0.0.1 - - [24/Jun/2023 23:57:47] \"GET / HTTP/1.1\" 200 -\n",
      "127.0.0.1 - - [24/Jun/2023 23:57:47] \"GET /assets/zephyr.min.css HTTP/1.1\" 304 -\n",
      "127.0.0.1 - - [24/Jun/2023 23:57:47] \"GET /assets/_bootswatch.scss?m=1686863302.6586335 HTTP/1.1\" 304 -\n",
      "127.0.0.1 - - [24/Jun/2023 23:57:47] \"GET /assets/zephyr.min.css?m=1686866740.2710085 HTTP/1.1\" 304 -\n",
      "127.0.0.1 - - [24/Jun/2023 23:57:48] \"GET /_dash-layout HTTP/1.1\" 200 -\n",
      "127.0.0.1 - - [24/Jun/2023 23:57:48] \"GET /_dash-dependencies HTTP/1.1\" 200 -\n",
      "127.0.0.1 - - [24/Jun/2023 23:57:50] \"POST /_dash-update-component HTTP/1.1\" 200 -\n",
      "127.0.0.1 - - [24/Jun/2023 23:57:52] \"POST /_dash-update-component HTTP/1.1\" 200 -\n",
      "127.0.0.1 - - [24/Jun/2023 23:57:53] \"GET /_dash-component-suites/dash/dcc/async-dropdown.js HTTP/1.1\" 304 -\n",
      "127.0.0.1 - - [24/Jun/2023 23:57:53] \"GET /_dash-component-suites/dash/dcc/async-graph.js HTTP/1.1\" 304 -\n",
      "127.0.0.1 - - [24/Jun/2023 23:57:53] \"GET /_dash-component-suites/dash/dcc/async-plotlyjs.js HTTP/1.1\" 304 -\n",
      "127.0.0.1 - - [24/Jun/2023 23:57:53] \"POST /_dash-update-component HTTP/1.1\" 200 -\n",
      "127.0.0.1 - - [24/Jun/2023 23:57:54] \"POST /_dash-update-component HTTP/1.1\" 200 -\n",
      "127.0.0.1 - - [24/Jun/2023 23:57:55] \"POST /_dash-update-component HTTP/1.1\" 200 -\n"
     ]
    }
   ],
   "source": [
    "if __name__ == '__main__':\n",
    "    app.run_server(debug=False,port=8050)"
   ]
  },
  {
   "cell_type": "code",
   "execution_count": null,
   "id": "b3346b30",
   "metadata": {},
   "outputs": [],
   "source": []
  },
  {
   "cell_type": "code",
   "execution_count": null,
   "id": "33719e0e",
   "metadata": {},
   "outputs": [],
   "source": []
  }
 ],
 "metadata": {
  "kernelspec": {
   "display_name": "Python 3 (ipykernel)",
   "language": "python",
   "name": "python3"
  },
  "language_info": {
   "codemirror_mode": {
    "name": "ipython",
    "version": 3
   },
   "file_extension": ".py",
   "mimetype": "text/x-python",
   "name": "python",
   "nbconvert_exporter": "python",
   "pygments_lexer": "ipython3",
   "version": "3.10.9"
  }
 },
 "nbformat": 4,
 "nbformat_minor": 5
}
